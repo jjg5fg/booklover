{
 "cells": [
  {
   "cell_type": "markdown",
   "id": "bbea800c-241d-42b4-a744-ecaffe13959e",
   "metadata": {},
   "source": [
    "# Metadata\n",
    "\n",
    "```yaml\n",
    "Course:  DS 5100\n",
    "Module:  09 Python Packages\n",
    "Topic:   HW Package Booklover\n",
    "Author:  R.C. Alvarado (adapted)\n",
    "Date:    7 July 2023 (revised)\n",
    "```"
   ]
  },
  {
   "cell_type": "markdown",
   "id": "36f46fdd-2405-4dc8-9ea1-33f395e56cc0",
   "metadata": {},
   "source": [
    "# Student Info\n",
    "\n",
    "* Name: Jack Gallagher\n",
    "* Net UD: jjg5fg\n",
    "* URL of this file in GitHub: https://github.com/jjg5fg/booklover/blob/main/hw09.ipynb"
   ]
  },
  {
   "cell_type": "markdown",
   "id": "375875a8-1503-46eb-8ea1-7e5bf39b5c41",
   "metadata": {},
   "source": [
    "# Instructions\n",
    "\n",
    "In your **private course repo on Rivanna**, use this Jupyter notebook and the data file described to write code that performs the tasks below. \n",
    "\n",
    "Save your notebook in the `M09` directory.\n",
    "\n",
    "Remember to add and commit these files to your repo. \n",
    "\n",
    "Then push your commits to your repo on GitHib.\n",
    "\n",
    "Be sure to fill out the **Student Info** block above.\n",
    "\n",
    "To submit your homework, save your results as a PDF and upload it to GradeScope. More information about how to create the PDF for this assignment are included at the end of this document.\n",
    "\n",
    "**TOTAL POINTS: 8**"
   ]
  },
  {
   "cell_type": "markdown",
   "id": "1baf08dc-35fe-44f1-bc26-7e1130ee993e",
   "metadata": {},
   "source": [
    "# Overview\n",
    "\n",
    "Follow the following recipe we used in class to package the code you wrote for `HW08` -- `booklover.py` and `booklover_test.py`.\n",
    "\n",
    "* Create a new git repo for your package.\n",
    "* Create and edit the required files and directories for your package and move the booklover modules there.\n",
    "* Stage, commit, and push all the files you've created.\n",
    "* Install your package with pip.\n",
    "* Outside of your package dir, write a script to test your method.\n",
    "\n",
    "Put this notebook in your repo. This will allow you to execute bash commands and capture the outpunt directly in the notebook.\n",
    "\n",
    "**TOTAL: 8 POINTS**"
   ]
  },
  {
   "cell_type": "markdown",
   "id": "6e39ba79-49ee-41e8-9e49-23d9d6bac2e0",
   "metadata": {
    "tags": []
   },
   "source": [
    "# Tasks"
   ]
  },
  {
   "cell_type": "markdown",
   "id": "fb11de14",
   "metadata": {},
   "source": [
    "## Task 1\n",
    "\n",
    "(5 points)\n",
    "\n",
    "Show the directory structure of your repo by running this command from the root of your repo:"
   ]
  },
  {
   "cell_type": "code",
   "execution_count": null,
   "id": "7e6c6607",
   "metadata": {},
   "outputs": [],
   "source": [
    "!ls -lR"
   ]
  },
  {
   "cell_type": "markdown",
   "id": "133edb8e",
   "metadata": {},
   "source": [
    "``` bash\n",
    "\n",
    "jjg5fg$ !ls -lR\n",
    "ls -lR -lR -lR\n",
    ".:\n",
    "total 24\n",
    "drwxr-sr-x 2 jjg5fg users 1024 Jul 31 17:03 booklover\n",
    "-rw-r--r-- 1 jjg5fg users  339 Jul 31 17:02 booklover_demo.py\n",
    "-rw-r--r-- 1 jjg5fg users 1063 Jul 31 17:02 LICENSE\n",
    "-rw-r--r-- 1 jjg5fg users   11 Jul 31 17:02 README.md\n",
    "-rw-r--r-- 1 jjg5fg users  330 Jul 31 17:02 setup.py\n",
    "drwxr-sr-x 2 jjg5fg users  512 Jul 31 17:03 tests\n",
    "\n",
    "./booklover:\n",
    "total 12\n",
    "-rw-r--r-- 1 jjg5fg users 1528 Jul 31 17:02 booklover.py\n",
    "-rw-r--r-- 1 jjg5fg users   32 Jul 31 17:03 __init__.py\n",
    "\n",
    "./tests:\n",
    "total 8\n",
    "-rw-r--r-- 1 jjg5fg users 2150 Jul 31 17:03 booklover_test.py\n",
    "\n",
    "```"
   ]
  },
  {
   "cell_type": "markdown",
   "id": "6b6f288b-05aa-441b-8c73-84b50b3b6844",
   "metadata": {},
   "source": [
    "## Task 2\n",
    "\n",
    "(1 point)\n",
    "\n",
    "Put the URL of your GitHub repo here. Just paste it into a Markdown cell."
   ]
  },
  {
   "cell_type": "markdown",
   "id": "4d09d889-6104-4f20-b31c-2d8a72b17693",
   "metadata": {},
   "source": [
    "URL:  https://github.com/jjg5fg/booklover"
   ]
  },
  {
   "cell_type": "markdown",
   "id": "f989dcd1-b1d2-4eb9-8ef6-8ca2d8495260",
   "metadata": {
    "lines_to_next_cell": 0
   },
   "source": [
    "## Task 3\n",
    "\n",
    "(1 point)\n",
    "\n",
    "Show the results of installing your package.\n",
    "\n",
    "```bash\n",
    "!pip install -e .\n",
    "```"
   ]
  },
  {
   "cell_type": "markdown",
   "id": "98246ed1",
   "metadata": {},
   "source": [
    "``` bash\n",
    "\n",
    "\n",
    "jjg5fg$ !pip install -e .\n",
    "pip install -e . install -e .\n",
    "DEPRECATION: Python 2.7 reached the end of its life on January 1st, 2020. Please upgrade your Python as Python 2.7 is no longer maintained. pip 21.0 will drop support for Python 2.7 in January 2021. More details about Python 2 support in pip can be found at https://pip.pypa.io/en/latest/development/release-process/#python-2-support pip 21.0 will remove support for this functionality.\n",
    "Defaulting to user installation because normal site-packages is not writeable\n",
    "Obtaining file:///sfs/qumulo/qhome/jjg5fg/booklover\n",
    "Obtaining file:///sfs/qumulo/qhome/jjg5fg/booklover\n",
    "Requirement already satisfied: install in /sfs/qumulo/qhome/jjg5fg/.local/lib/python2.7/site-packages (1.3.0)\n",
    "Requirement already satisfied: pandas>=0.2 in /sfs/qumulo/qhome/jjg5fg/.local/lib/python2.7/site-packages (from booklover==1.0.0) (0.24.2)\n",
    "Requirement already satisfied: numpy>=1.12.0 in /sfs/qumulo/qhome/jjg5fg/.local/lib/python2.7/site-packages (from pandas>=0.2->booklover==1.0.0) (1.16.6)\n",
    "Requirement already satisfied: python-dateutil>=2.5.0 in /sfs/qumulo/qhome/jjg5fg/.local/lib/python2.7/site-packages (from pandas>=0.2->booklover==1.0.0) (2.8.2)\n",
    "Requirement already satisfied: pytz>=2011k in /usr/lib/python2.7/site-packages (from pandas>=0.2->booklover==1.0.0) (2016.10)\n",
    "Requirement already satisfied: six>=1.5 in /usr/lib/python2.7/site-packages (from python-dateutil>=2.5.0->pandas>=0.2->booklover==1.0.0) (1.9.0)\n",
    "Installing collected packages: booklover\n",
    "  Running setup.py develop for booklover\n",
    "Successfully installed booklover\n",
    "\n",
    "\n",
    "```"
   ]
  },
  {
   "cell_type": "markdown",
   "id": "5b1a642e-74f0-43ff-97a3-9ddc7553978e",
   "metadata": {},
   "source": [
    "## Task 4\n",
    "\n",
    "(1 point)\n",
    "\n",
    "Create a file outside your repo to test your package by running it.\n",
    "\n",
    "To do this, import the package into your file and create a BookLover object.\n",
    "\n",
    "Then add a book and then print number books read.\n",
    "\n",
    "Then run the file. \n",
    "\n",
    "Show the output of running the file below, using a command like the following:\n",
    "\n",
    "```bash\n",
    "!python ../book_lover_demo.py\n",
    "```"
   ]
  },
  {
   "cell_type": "markdown",
   "id": "b616bf6f",
   "metadata": {},
   "source": [
    "``` bash \n",
    "\n",
    "$ python booklover_demo.py\n",
    "True\n",
    "The book already has been read and rated please enter a new book\n",
    "2\n",
    "           book_name  book_rating\n",
    "0  War of the Worlds          4.0\n",
    "\n",
    "\n",
    "```"
   ]
  }
 ],
 "metadata": {
  "jupytext": {
   "cell_metadata_filter": "-all",
   "main_language": "bash",
   "notebook_metadata_filter": "-all"
  },
  "kernelspec": {
   "display_name": "Python 3 (ipykernel)",
   "language": "python",
   "name": "python3"
  },
  "language_info": {
   "codemirror_mode": {
    "name": "ipython",
    "version": 3
   },
   "file_extension": ".py",
   "mimetype": "text/x-python",
   "name": "python",
   "nbconvert_exporter": "python",
   "pygments_lexer": "ipython3",
   "version": "3.8.16"
  },
  "vscode": {
   "interpreter": {
    "hash": "c3b963de08c47c3b6758389c5e0978ad73698a111eb508d4e16b558edb8f4cbf"
   }
  },
  "widgets": {
   "application/vnd.jupyter.widget-state+json": {
    "state": {},
    "version_major": 2,
    "version_minor": 0
   }
  }
 },
 "nbformat": 4,
 "nbformat_minor": 5
}
